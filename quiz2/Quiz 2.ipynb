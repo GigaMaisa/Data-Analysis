{
 "cells": [
  {
   "cell_type": "markdown",
   "id": "edf1aed4",
   "metadata": {
    "id": "edf1aed4",
    "pycharm": {
     "name": "#%% md\n"
    }
   },
   "source": [
    "## Quiz 2 - Probability, Statistics (ლექცია 4, ლექცია 5) - 7 ქულა\n",
    "\n",
    "იხილეთ LoanStatus.csv მონაცემთა ფაილი, რომელშიც მოცემულია კლიენტთა ინფორმაცია შემდეგი სვეტებით:\n",
    "\n",
    "Loan ID - კლიენტის ID\n",
    "\n",
    "Gender - სქესი\n",
    "\n",
    "Married - დაქორზინებული არის თუ არა\n",
    "\n",
    "Dependents - ოჯახის წევრების რაოდენობა, რომლის ფინანსურ მხარდაჭერასაც უზრუნველყოფს კლიენტი\n",
    "\n",
    "Education - არის თუ არა უმაღლესი განათლების მქონე\n",
    "\n",
    "Self_Employed - არის თუ არა თვითდასაქმებული\n",
    "\n",
    "ApplicantIncome - კლიენტის შემოსავალი (per month)\n",
    "\n",
    "LoanAmount  - სესხის რაოდენობა (ათასებში)\n",
    "\n",
    "Loan_Amount_Term - სესხის ვადა\n",
    "\n",
    "Credit_History - როგორი საკრედიტო ისტორია აქვს კლიენტს (1-კარგი, 0-ცუდი)\n",
    "\n",
    "Property_Area - საცხოვრებელი და სამუშაო ადგილი\n",
    "\n",
    "Loan_Status - სესხის გაცემის სტატუსი\n"
   ]
  },
  {
   "cell_type": "markdown",
   "id": "3b4fc6c6",
   "metadata": {
    "id": "3b4fc6c6",
    "pycharm": {
     "name": "#%% md\n"
    }
   },
   "source": [
    "## დავალება 1: აღწერილობითი სტატისტიკა  (1 ქულა)\n",
    "ა) გახსენით ფაილი და დაბეჭდეთ აღწერილობითი სტატისტიკის მონაცემები თქვენთვის საინტერესო ველებისთვის, როგორიცაა საშუალო, მედიანა, მოდა, სტდ. გადახრა, ა.შ. (მოახდინეთ სიტყვიერი ინტერპრეტაცია);\n",
    "\n",
    "ბ) დაითვალეთ თითოეულ სვეტში ცარიელი მნიშვნელობების რაოდენობა შესაბამისი ფუნქციით"
   ]
  },
  {
   "cell_type": "code",
   "execution_count": 2,
   "id": "b786db79",
   "metadata": {
    "id": "b786db79",
    "pycharm": {
     "name": "#%%\n"
    }
   },
   "outputs": [],
   "source": [
    "import pandas as pd\n",
    "import warnings\n",
    "\n",
    "from scipy.stats import norm\n",
    "warnings.filterwarnings(\"ignore\")"
   ]
  },
  {
   "cell_type": "code",
   "execution_count": 3,
   "id": "1abee773",
   "metadata": {
    "id": "1abee773",
    "pycharm": {
     "name": "#%%\n"
    }
   },
   "outputs": [
    {
     "data": {
      "text/html": [
       "<div>\n",
       "<style scoped>\n",
       "    .dataframe tbody tr th:only-of-type {\n",
       "        vertical-align: middle;\n",
       "    }\n",
       "\n",
       "    .dataframe tbody tr th {\n",
       "        vertical-align: top;\n",
       "    }\n",
       "\n",
       "    .dataframe thead th {\n",
       "        text-align: right;\n",
       "    }\n",
       "</style>\n",
       "<table border=\"1\" class=\"dataframe\">\n",
       "  <thead>\n",
       "    <tr style=\"text-align: right;\">\n",
       "      <th></th>\n",
       "      <th>Loan_ID</th>\n",
       "      <th>Gender</th>\n",
       "      <th>Married</th>\n",
       "      <th>Dependents</th>\n",
       "      <th>Education</th>\n",
       "      <th>Self_Employed</th>\n",
       "      <th>ApplicantIncome</th>\n",
       "      <th>LoanAmount</th>\n",
       "      <th>Loan_Amount_Term</th>\n",
       "      <th>Credit_History</th>\n",
       "      <th>Property_Area</th>\n",
       "      <th>Loan_Status</th>\n",
       "    </tr>\n",
       "  </thead>\n",
       "  <tbody>\n",
       "    <tr>\n",
       "      <th>0</th>\n",
       "      <td>LP001002</td>\n",
       "      <td>Male</td>\n",
       "      <td>No</td>\n",
       "      <td>0</td>\n",
       "      <td>Graduate</td>\n",
       "      <td>No</td>\n",
       "      <td>5849</td>\n",
       "      <td>NaN</td>\n",
       "      <td>360.0</td>\n",
       "      <td>1.0</td>\n",
       "      <td>Urban</td>\n",
       "      <td>Y</td>\n",
       "    </tr>\n",
       "    <tr>\n",
       "      <th>1</th>\n",
       "      <td>LP001003</td>\n",
       "      <td>Male</td>\n",
       "      <td>Yes</td>\n",
       "      <td>1</td>\n",
       "      <td>Graduate</td>\n",
       "      <td>No</td>\n",
       "      <td>4583</td>\n",
       "      <td>128.0</td>\n",
       "      <td>360.0</td>\n",
       "      <td>1.0</td>\n",
       "      <td>Rural</td>\n",
       "      <td>N</td>\n",
       "    </tr>\n",
       "    <tr>\n",
       "      <th>2</th>\n",
       "      <td>LP001005</td>\n",
       "      <td>Male</td>\n",
       "      <td>Yes</td>\n",
       "      <td>0</td>\n",
       "      <td>Graduate</td>\n",
       "      <td>Yes</td>\n",
       "      <td>3000</td>\n",
       "      <td>66.0</td>\n",
       "      <td>360.0</td>\n",
       "      <td>1.0</td>\n",
       "      <td>Urban</td>\n",
       "      <td>Y</td>\n",
       "    </tr>\n",
       "    <tr>\n",
       "      <th>3</th>\n",
       "      <td>LP001006</td>\n",
       "      <td>Male</td>\n",
       "      <td>Yes</td>\n",
       "      <td>0</td>\n",
       "      <td>Not Graduate</td>\n",
       "      <td>No</td>\n",
       "      <td>2583</td>\n",
       "      <td>120.0</td>\n",
       "      <td>360.0</td>\n",
       "      <td>1.0</td>\n",
       "      <td>Urban</td>\n",
       "      <td>Y</td>\n",
       "    </tr>\n",
       "    <tr>\n",
       "      <th>4</th>\n",
       "      <td>LP001008</td>\n",
       "      <td>Male</td>\n",
       "      <td>No</td>\n",
       "      <td>0</td>\n",
       "      <td>Graduate</td>\n",
       "      <td>No</td>\n",
       "      <td>6000</td>\n",
       "      <td>141.0</td>\n",
       "      <td>360.0</td>\n",
       "      <td>1.0</td>\n",
       "      <td>Urban</td>\n",
       "      <td>Y</td>\n",
       "    </tr>\n",
       "  </tbody>\n",
       "</table>\n",
       "</div>"
      ],
      "text/plain": [
       "    Loan_ID Gender Married Dependents     Education Self_Employed  \\\n",
       "0  LP001002   Male      No          0      Graduate            No   \n",
       "1  LP001003   Male     Yes          1      Graduate            No   \n",
       "2  LP001005   Male     Yes          0      Graduate           Yes   \n",
       "3  LP001006   Male     Yes          0  Not Graduate            No   \n",
       "4  LP001008   Male      No          0      Graduate            No   \n",
       "\n",
       "   ApplicantIncome  LoanAmount  Loan_Amount_Term  Credit_History  \\\n",
       "0             5849         NaN             360.0             1.0   \n",
       "1             4583       128.0             360.0             1.0   \n",
       "2             3000        66.0             360.0             1.0   \n",
       "3             2583       120.0             360.0             1.0   \n",
       "4             6000       141.0             360.0             1.0   \n",
       "\n",
       "  Property_Area Loan_Status  \n",
       "0         Urban           Y  \n",
       "1         Rural           N  \n",
       "2         Urban           Y  \n",
       "3         Urban           Y  \n",
       "4         Urban           Y  "
      ]
     },
     "execution_count": 3,
     "metadata": {},
     "output_type": "execute_result"
    }
   ],
   "source": [
    "# წავიკითხოთ მონაცემები და დავბეჭდოთ პირველი 5 სტრიქონი\n",
    "df = pd.read_csv('LoanStatus.csv')\n",
    "df.head()"
   ]
  },
  {
   "cell_type": "code",
   "execution_count": 4,
   "id": "cbca35af-7ea8-4803-8ab0-a1251262b8de",
   "metadata": {
    "pycharm": {
     "is_executing": true,
     "name": "#%%\n"
    }
   },
   "outputs": [
    {
     "data": {
      "text/html": [
       "<div>\n",
       "<style scoped>\n",
       "    .dataframe tbody tr th:only-of-type {\n",
       "        vertical-align: middle;\n",
       "    }\n",
       "\n",
       "    .dataframe tbody tr th {\n",
       "        vertical-align: top;\n",
       "    }\n",
       "\n",
       "    .dataframe thead th {\n",
       "        text-align: right;\n",
       "    }\n",
       "</style>\n",
       "<table border=\"1\" class=\"dataframe\">\n",
       "  <thead>\n",
       "    <tr style=\"text-align: right;\">\n",
       "      <th></th>\n",
       "      <th>ApplicantIncome</th>\n",
       "      <th>LoanAmount</th>\n",
       "    </tr>\n",
       "  </thead>\n",
       "  <tbody>\n",
       "    <tr>\n",
       "      <th>mean</th>\n",
       "      <td>5403.459283</td>\n",
       "      <td>146.412162</td>\n",
       "    </tr>\n",
       "    <tr>\n",
       "      <th>median</th>\n",
       "      <td>3812.500000</td>\n",
       "      <td>128.000000</td>\n",
       "    </tr>\n",
       "    <tr>\n",
       "      <th>std</th>\n",
       "      <td>6109.041673</td>\n",
       "      <td>85.587325</td>\n",
       "    </tr>\n",
       "  </tbody>\n",
       "</table>\n",
       "</div>"
      ],
      "text/plain": [
       "        ApplicantIncome  LoanAmount\n",
       "mean        5403.459283  146.412162\n",
       "median      3812.500000  128.000000\n",
       "std         6109.041673   85.587325"
      ]
     },
     "execution_count": 4,
     "metadata": {},
     "output_type": "execute_result"
    }
   ],
   "source": [
    "#სტატისტიკური მონაცემების შედარება შემოსავლისა და სესხის მიხედვით. შედეგად მივიღეთ გვერდიგვერ მყოფი მომხამრებლის შემოსავლისა \n",
    "#და სესხის მიხედვით სადაც ვხედავთ რომ საშუალო შემოსავლისა მეტია ვიდზრე სესხისა, რაც გვაძლევს საბაბს ვივარაუდოთ რომ ბევრ მომხამრებელს არ აქვს სესხი\n",
    "Income = df['ApplicantIncome'].dropna().agg(['mean', 'median', 'std'])\n",
    "Loan = df['LoanAmount'].dropna().agg(['mean', 'median', 'std'])\n",
    "\n",
    "df_stats = pd.DataFrame({\n",
    "    'ApplicantIncome': Income,\n",
    "    'LoanAmount': Loan\n",
    "})\n",
    "\n",
    "df_stats"
   ]
  },
  {
   "cell_type": "code",
   "execution_count": 17,
   "id": "eacde097",
   "metadata": {
    "id": "eacde097",
    "pycharm": {
     "name": "#%%\n"
    }
   },
   "outputs": [
    {
     "data": {
      "text/plain": [
       "Loan_ID              0\n",
       "Gender              13\n",
       "Married              3\n",
       "Dependents          15\n",
       "Education            0\n",
       "Self_Employed       32\n",
       "ApplicantIncome      0\n",
       "LoanAmount          22\n",
       "Loan_Amount_Term    14\n",
       "Credit_History      50\n",
       "Property_Area        0\n",
       "Loan_Status          0\n",
       "dtype: int64"
      ]
     },
     "execution_count": 17,
     "metadata": {},
     "output_type": "execute_result"
    }
   ],
   "source": [
    "# დავითვალოთ ცარიელი მნიშვნელობები\n",
    "missing_values = df.isna().sum()\n",
    "missing_values"
   ]
  },
  {
   "cell_type": "markdown",
   "id": "765decd7",
   "metadata": {
    "id": "765decd7",
    "pycharm": {
     "name": "#%% md\n"
    }
   },
   "source": [
    "## დავალება 2:  ალბათობა (1 ქულა)\n",
    "ა) დაითვალეთ, რა არის სესხის აღების ალბათობა Loan_Status-ის მიხედვით.\n",
    "\n",
    "ბ) რა არის სესხის აღების ალბათობა, მაშინ როცა კლიენტს კარგი საკრედიტო ისტორია აქვს.\n",
    "\n",
    "კოდს დაურთეთ თქვენი კომენტარები მოკლედ"
   ]
  },
  {
   "cell_type": "code",
   "execution_count": 25,
   "id": "98aafed8",
   "metadata": {
    "id": "98aafed8",
    "pycharm": {
     "name": "#%%\n"
    }
   },
   "outputs": [
    {
     "data": {
      "text/plain": [
       "Loan_Status\n",
       "Y    0.687296\n",
       "N    0.312704\n",
       "Name: proportion, dtype: float64"
      ]
     },
     "execution_count": 25,
     "metadata": {},
     "output_type": "execute_result"
    }
   ],
   "source": [
    "#გამოვთვალოთ ალბათობა სესხის აღებისა ნებისმიერ შემთხვევაში\n",
    "loan_prb = df['Loan_Status'].value_counts(normalize=True)\n",
    "loan_prb"
   ]
  },
  {
   "cell_type": "code",
   "execution_count": 26,
   "id": "b2a3f23c",
   "metadata": {
    "id": "b2a3f23c",
    "pycharm": {
     "name": "#%%\n"
    }
   },
   "outputs": [
    {
     "data": {
      "text/plain": [
       "Loan_Status\n",
       "Y    0.795789\n",
       "N    0.204211\n",
       "Name: proportion, dtype: float64"
      ]
     },
     "execution_count": 26,
     "metadata": {},
     "output_type": "execute_result"
    }
   ],
   "source": [
    "#გავფილტროთ კარგი საკრედიტო ისტორიის მქონე ადამიანები\n",
    "credit_history = df[df['Credit_History'] == 1.0]\n",
    "\n",
    "#გამოვთვალოთ ალბათობა სესხის აღებისა კარგი საკრედიტო ისტორიის პირობებში\n",
    "goodstatus_loan = credit_history['Loan_Status'].value_counts(normalize=True)\n",
    "goodstatus_loan"
   ]
  },
  {
   "cell_type": "markdown",
   "id": "bf280cfc-6292-445c-979e-7907950ccd55",
   "metadata": {
    "id": "8307cf58",
    "pycharm": {
     "name": "#%%\n"
    }
   },
   "source": [
    "#ყველა მომხმარებლის გათვალისწინებით იმის ალბათობა რომ სესხი გაიცემა ადამიანზე არის 68 %, ხოლო კარგი საკრედიტო ისტორიის პირობებში იგი იმატებს და ამჯერად გაცემის ალბათობა 79% ია"
   ]
  },
  {
   "cell_type": "markdown",
   "id": "80eb6167",
   "metadata": {
    "id": "80eb6167",
    "pycharm": {
     "name": "#%% md\n"
    }
   },
   "source": [
    "## დავალება 3: გრაფიკული წარმოდგენა (1 ქულა)\n",
    "ა) seaborn.distplot ან seaborn.histplot() ფუნქციის გამოყენებით, ააგეთ რომელიმე სვეტისთვის შესაბამისი გრაფიკი. ლინკი: https://seaborn.pydata.org/generated/seaborn.distplot.html\n",
    "\n",
    "ბ) matplotlib.pyplot.hist ფუნქციის გამოყენებით, ააგეთ რომელიმე სვეტისთვის შესაბამისი ჰისტოგრამი, რომელშიც bin-ების (ჰოსტოგრამაში ბლოკების) რაოდენობას თქვენ განსაზღვრავთ (მაგ. ჰისტოგრამაში 10 სვეტად წარმოადგინოთ მონაცემები.) იხ. დოკუმენტაცია შემდეგ ლინკზე: https://matplotlib.org/stable/api/_as_gen/matplotlib.pyplot.hist.html\n",
    "\n",
    "Future warnings-ების გამოსართავად ჩაწერეთ შემდეგი ბრძანებები:\n",
    "import warnings\n",
    "warnings.filterwarnings(\"ignore\")\n",
    "\n",
    "კოდს დაურთეთ თქვენი კომენტარები მოკლედ"
   ]
  },
  {
   "cell_type": "code",
   "execution_count": 5,
   "id": "4acb2e7f",
   "metadata": {
    "id": "4acb2e7f",
    "pycharm": {
     "name": "#%%\n"
    }
   },
   "outputs": [],
   "source": [
    "import numpy as np\n",
    "import matplotlib.pyplot as plt\n",
    "import seaborn as sns"
   ]
  },
  {
   "cell_type": "code",
   "execution_count": 6,
   "id": "6e98aca4",
   "metadata": {
    "id": "6e98aca4",
    "pycharm": {
     "name": "#%%\n"
    }
   },
   "outputs": [
    {
     "data": {
      "image/png": "[encoded data removed]",
      "text/plain": [
       "<Figure size 640x480 with 1 Axes>"
      ]
     },
     "metadata": {},
     "output_type": "display_data"
    }
   ],
   "source": [
    "# შევქმნათ ჰისტოგრამა მომხამრებლის შემოსავლის და სიხშირის მიხედვით\n",
    "sns.histplot(df['ApplicantIncome'], color='blue')\n",
    "plt.title('Distribution of Applicant Income')\n",
    "plt.xlabel('Applicant Income')\n",
    "plt.ylabel('Frequency')\n",
    "plt.show()\n"
   ]
  },
  {
   "cell_type": "markdown",
   "id": "8a63cc33-1e1f-476c-b240-eade341cd598",
   "metadata": {},
   "source": [
    "მოცემული გვაქვს განაწილება მომხამრებლის შემოსავლის მიხედვით, სადაც შევხედავთ რომ ძირითადი ნაწილი თავმოყრილია 0-10000 შუალედში, ასევე წარმოდგენილი გვაქვს გარე შრეებზე მყოფი მონაცემებიც"
   ]
  },
  {
   "cell_type": "code",
   "execution_count": 7,
   "id": "47399106",
   "metadata": {
    "id": "47399106",
    "pycharm": {
     "name": "#%%\n"
    }
   },
   "outputs": [
    {
     "data": {
      "image/png": "[encoded data removed]",
      "text/plain": [
       "<Figure size 640x480 with 1 Axes>"
      ]
     },
     "metadata": {},
     "output_type": "display_data"
    }
   ],
   "source": [
    "# შევქმნათ ჰისტოგრამა მომხამრებლის სესხის და სიხშირის მიხედვით ბლოკების გამყენებით\n",
    "plt.hist(df['LoanAmount'].dropna(), bins=10, color='green', edgecolor='black')\n",
    "plt.title('Distribution of Loan Amount')\n",
    "plt.xlabel('Loan Amount')\n",
    "plt.ylabel('Frequency')\n",
    "plt.show()\n"
   ]
  },
  {
   "cell_type": "markdown",
   "id": "67538495-7bca-41b2-bce9-3ae13dcec81b",
   "metadata": {},
   "source": [
    "მოცემული გვაქვს განაწილება მომხარებლის აღებული სესხის მიხედვით ,  სადაც შევამჩნევთ რომ ძირითადი ნაწილი თამვმოყრილია 100-200 ევროს შუალედში. გვაქვს მცირე რაოდენობით გარე შრეეზე მყოფი მონაცემებიც."
   ]
  },
  {
   "cell_type": "markdown",
   "id": "7331343b",
   "metadata": {
    "id": "7331343b",
    "pycharm": {
     "name": "#%% md\n"
    }
   },
   "source": [
    "## დავალება 4:  კუმულაციური ალბათობა (Cumulative distribution function) - (1 ქულა)\n",
    "დაითვალეთ შემდეგი კუმულაციური ალბათობა scipy.stats.norm.cdf() ფუნქციის გამოყენებით.\n",
    "დაითვალეთ კლიენტების რამდენ პროცენტს აქვს შემოსავალი 2000 ევროზე ნაკლები ყოველთვიურად.\n",
    "norm.cdf(x, mean_val, std_dev_val) ფუნქციის პირველი პარამეტრია სასაზღვრო მნიშვნელობა, მეორე- საშუალო, მესამე -სტდ. გადახრა.\n",
    "\n",
    "#### მოახდინეთ შედეგების სიტყვიერი ინტერპრეტაცია"
   ]
  },
  {
   "cell_type": "code",
   "execution_count": null,
   "id": "be4adcf9",
   "metadata": {
    "id": "be4adcf9",
    "pycharm": {
     "name": "#%%\n"
    }
   },
   "outputs": [],
   "source": [
    "from scipy.stats import norm"
   ]
  },
  {
   "cell_type": "code",
   "execution_count": null,
   "outputs": [],
   "source": [
    "from scipy.stats import norm\n",
    "\n",
    "# დავითვალოთ საშუალო და სტც. გადახრა\n",
    "mean_income = df['ApplicantIncome'].mean()\n",
    "std_dev_income = df['ApplicantIncome'].std()\n",
    "\n",
    "# განსვსაზღვროთ ზღვრული 2000 ევრო\n",
    "threshold_income = 2000  \n",
    "\n",
    "# გამოვთვალოთ კუმულაციური ალბათობა\n",
    "probability = norm.cdf(threshold_income, mean_income, std_dev_income)\n",
    "mean_income, std_dev_income, probability * 100  "
   ],
   "metadata": {
    "collapsed": false,
    "pycharm": {
     "name": "#%%\n"
    }
   }
  },
  {
   "cell_type": "markdown",
   "source": [
    "საშუალო შემოსავალისა (5403) და საშუალო გადახრის(6109) მონაცემბეზე დაყრდნობითა და ზღვრული 2000 ევროს გამოყენებით, დავადგინეთ რომ მონაცემთა სიაში არსებულ 28.87% ადამიანს აქვს შემოსავალი 2000 ევროზე ნაკლები, რაც თავისთავად გვეუბნება იმას რომ მომხამრებელთა უმეტეს ნაწილს საკმაოდ მაღალი შემოსავალი აქვს"
   ],
   "metadata": {
    "collapsed": false,
    "pycharm": {
     "name": "#%% md\n"
    }
   }
  },
  {
   "cell_type": "markdown",
   "source": [
    "## დავალება 5: სტატისტიკა (1 ქულა)\n",
    "\n",
    "ააგეთ 2 boxplot დიაგრამა seaborn.boxplot() ფუნქციის გამოყენებით რომელიმე ველის მიმართ."
   ],
   "metadata": {
    "collapsed": false,
    "pycharm": {
     "name": "#%% md\n"
    }
   }
  },
  {
   "cell_type": "code",
   "execution_count": null,
   "outputs": [],
   "source": [
    "# boxplot შემოსავლის მიმართ\n",
    "plt.figure(figsize=(8, 6))\n",
    "sns.boxplot(df['ApplicantIncome'])\n",
    "plt.title('Boxplot of Applicant Income')\n",
    "plt.show()"
   ],
   "metadata": {
    "collapsed": false,
    "pycharm": {
     "name": "#%%\n"
    }
   }
  },
  {
   "cell_type": "code",
   "execution_count": null,
   "outputs": [],
   "source": [
    "# boxplot სესხის მიმართ\n",
    "plt.figure(figsize=(8, 6))\n",
    "sns.boxplot(df['LoanAmount'].dropna()) \n",
    "plt.title('Boxplot of Loan Amount')\n",
    "plt.show()"
   ],
   "metadata": {
    "collapsed": false,
    "pycharm": {
     "name": "#%%\n"
    }
   }
  },
  {
   "cell_type": "markdown",
   "source": [
    "## დავალება 6: t-test (2 ქულა)\n",
    "ა) გააკეთეთ t-test ანალიზი (One sample t-test)  რომელიმე სვეტის მიმართ და გამოიყენეთ  ttest_1samp ფუნქცია.\n",
    "\n",
    "ბ) გააკეთეთ t-test ანალიზი (Two sample t-test) რომელიმე სვეტის მიმართ და გამოიყენეთ  ttest_ind ფუნქცია.\n",
    "\n",
    "განსაზღვრეთ ნულოვანი და ალტერნატიული ჰიპოთეზა, გამოიყენეთ აღნიშნული ფუნქციები და მოახდინეთ შედეგების სიტყვიერი ინტერპრეტაცია."
   ],
   "metadata": {
    "collapsed": false,
    "pycharm": {
     "name": "#%% md\n"
    }
   }
  },
  {
   "cell_type": "code",
   "execution_count": null,
   "outputs": [],
   "source": [
    "from scipy.stats import ttest_1samp,ttest_ind"
   ],
   "metadata": {
    "collapsed": false,
    "pycharm": {
     "name": "#%%\n"
    }
   }
  },
  {
   "cell_type": "code",
   "execution_count": null,
   "outputs": [],
   "source": [
    "# One-Sample t-test\n",
    "# განვსაღვროთ ჰიპოთეზა\n",
    "hypothesized_mean = 5000\n",
    "\n",
    "# განვახორციელოთ one-sample t-test\n",
    "t_statistic, p_value_one_sample = ttest_1samp(df['ApplicantIncome'], hypothesized_mean)\n",
    "\n",
    "t_statistic, p_value_one_sample"
   ],
   "metadata": {
    "collapsed": false,
    "pycharm": {
     "name": "#%%\n"
    }
   }
  },
  {
   "cell_type": "markdown",
   "source": [
    "განსაზღვროთ ჰიპოთეზა რომ საშუალო შემოსავალი არ არის 5403 ევრო(რომელიც უკვე დავითვალეთ წინა სავარჯიშოზე). p მნიშვნელობა რომელიც ტესტმა დაგვიბრუნა არის 0.102,რაც იმაზე მეტია ვიდრე სტანდარტულად განსაზვრულია alpha=0.05. რაც იმას ნიშნავს რომ არგვაქვს მტკიცებულება ნულოვანი ჰიპოთეზის უარსაყოფად და საშუალო შემოსავალი მნიშნველოვნად არ გნსახვავდება 5000 ევროსაგან 95% სიზუსტით."
   ],
   "metadata": {
    "collapsed": false,
    "pycharm": {
     "name": "#%% md\n"
    }
   }
  },
  {
   "cell_type": "code",
   "execution_count": null,
   "outputs": [],
   "source": [
    "# გავფილტროთ განათლების დონის მიხედვით\n",
    "graduates_loan_amount = df[df['Education'] == 'Graduate']['LoanAmount'].dropna()\n",
    "non_graduates_loan_amount = df[df['Education'] == 'Not Graduate']['LoanAmount'].dropna()\n",
    "\n",
    "# განვახორციელოთ two-sample t-test\n",
    "t_statistic_two_sample, p_value_two_sample = ttest_ind(graduates_loan_amount, non_graduates_loan_amount)\n",
    "\n",
    "t_statistic_two_sample, p_value_two_sample\n"
   ],
   "metadata": {
    "collapsed": false,
    "pycharm": {
     "name": "#%%\n"
    }
   }
  },
  {
   "cell_type": "markdown",
   "source": [
    "შევადაროთ ორი ჯგუფი განათლების დონის მიხედვით და გავიგოთ თუ არის მნიშნველოვანი განსხვავება საშუალო სესხის მაჩვენებელს შორის ამ ჯგუფებში.p მნიშვნელობა რომელიც ტესტმა დაგვიბრუნა არის (0.0000284) ,რაც იმაზე ბევრად ნაკლებია ვიდრე სტანდარტულად განსაზვრულია alpha=0.05. ეს იმას ნიშნავს რომ კურსადმთავრებულსა და კურსდაუმთავრებელს შორის არის სტატისტიკურად მნიშვნელოვანი განსხვავება სესხის საშუალო ოდენობებში.\n",
    "ეს შედეგი საშუალებას გვაძლევს უარვყოთ ნულოვანი ჰიპოთეზა, რაც ადასტურებს, რომ საგანმანათლებლო გამოცდილება (კურსდამთავრებულები არადამთავრებულის წინააღმდეგ) გავლენას ახდენს ფიზიკურ პირებზე გაცემულ სესხზე."
   ],
   "metadata": {
    "collapsed": false,
    "pycharm": {
     "name": "#%% md\n"
    }
   }
  },
  {
   "cell_type": "code",
   "execution_count": 17,
   "id": "f05f6747",
   "metadata": {
    "id": "f05f6747",
    "pycharm": {
     "name": "#%%\n"
    }
   },
   "outputs": [],
   "source": [
    "from scipy.stats import ttest_1samp,ttest_ind"
   ]
  },
  {
   "cell_type": "code",
   "execution_count": 19,
   "id": "116b95c4",
   "metadata": {
    "id": "116b95c4",
    "pycharm": {
     "name": "#%%\n"
    }
   },
   "outputs": [
    {
     "data": {
      "text/plain": [
       "(1.6364804093914873, 0.10225234862970933)"
      ]
     },
     "execution_count": 19,
     "metadata": {},
     "output_type": "execute_result"
    }
   ],
   "source": [
    "# One-Sample t-test\n",
    "# განვსაღვროთ ჰიპოთეზა\n",
    "hypothesized_mean = 5000\n",
    "\n",
    "# განვახორციელოთ one-sample t-test\n",
    "t_statistic, p_value_one_sample = ttest_1samp(df['ApplicantIncome'], hypothesized_mean)\n",
    "\n",
    "t_statistic, p_value_one_sample"
   ]
  },
  {
   "cell_type": "markdown",
   "id": "2228a684-53f4-4adb-919b-7b218d3545bf",
   "metadata": {},
   "source": [
    "განსაზღვროთ ჰიპოთეზა რომ საშუალო შემოსავალი არ არის 5403 ევრო(რომელიც უკვე დავითვალეთ წინა სავარჯიშოზე). p მნიშვნელობა რომელიც ტესტმა დაგვიბრუნა არის 0.102,რაც იმაზე მეტია ვიდრე სტანდარტულად განსაზვრულია alpha=0.05. რაც იმას ნიშნავს რომ არგვაქვს მტკიცებულება ნულოვანი ჰიპოთეზის უარსაყოფად და საშუალო შემოსავალი მნიშნველოვნად არ გნსახვავდება 5000 ევროსაგან 95% სიზუსტით."
   ]
  },
  {
   "cell_type": "code",
   "execution_count": 21,
   "id": "d9c1c269-5a96-4892-9ae4-a2683c6d7a90",
   "metadata": {},
   "outputs": [
    {
     "data": {
      "text/plain": [
       "(4.219039691685831, 2.8396633664893913e-05)"
      ]
     },
     "execution_count": 21,
     "metadata": {},
     "output_type": "execute_result"
    }
   ],
   "source": [
    "# გავფილტროთ განათლების დონის მიხედვით\n",
    "graduates_loan_amount = df[df['Education'] == 'Graduate']['LoanAmount'].dropna()\n",
    "non_graduates_loan_amount = df[df['Education'] == 'Not Graduate']['LoanAmount'].dropna()\n",
    "\n",
    "# განვახორციელოთ two-sample t-test\n",
    "t_statistic_two_sample, p_value_two_sample = ttest_ind(graduates_loan_amount, non_graduates_loan_amount)\n",
    "\n",
    "t_statistic_two_sample, p_value_two_sample\n"
   ]
  },
  {
   "cell_type": "markdown",
   "id": "7420afc4-9f89-4596-8b74-f8846767e6dc",
   "metadata": {},
   "source": [
    "შევადაროთ ორი ჯგუფი განათლების დონის მიხედვით და გავიგოთ თუ არის მნიშნველოვანი განსხვავება საშუალო სესხის მაჩვენებელს შორის ამ ჯგუფებში.p მნიშვნელობა რომელიც ტესტმა დაგვიბრუნა არის (0.0000284) ,რაც იმაზე ბევრად ნაკლებია ვიდრე სტანდარტულად განსაზვრულია alpha=0.05. ეს იმას ნიშნავს რომ კურსადმთავრებულსა და კურსდაუმთავრებელს შორის არის სტატისტიკურად მნიშვნელოვანი განსხვავება სესხის საშუალო ოდენობებში.\n",
    "ეს შედეგი საშუალებას გვაძლევს უარვყოთ ნულოვანი ჰიპოთეზა, რაც ადასტურებს, რომ საგანმანათლებლო გამოცდილება (კურსდამთავრებულები არადამთავრებულის წინააღმდეგ) გავლენას ახდენს ფიზიკურ პირებზე გაცემულ სესხზე."
   ]
  },
  {
   "cell_type": "code",
   "execution_count": null,
   "id": "1ffeb8fa-4901-4a5d-b077-d7ae9f349328",
   "metadata": {},
   "outputs": [],
   "source": []
  }
 ],
 "metadata": {
  "colab": {
   "provenance": []
  },
  "kernelspec": {
   "display_name": "Python 3 (ipykernel)",
   "language": "python",
   "name": "python3"
  },
  "language_info": {
   "codemirror_mode": {
    "name": "ipython",
    "version": 3
   },
   "file_extension": ".py",
   "mimetype": "text/x-python",
   "name": "python",
   "nbconvert_exporter": "python",
   "pygments_lexer": "ipython3",
   "version": "3.9.10"
  }
 },
 "nbformat": 4,
 "nbformat_minor": 5
}